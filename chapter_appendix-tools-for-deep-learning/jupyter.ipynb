{
  "cells": [
    {
      "cell_type": "markdown",
      "metadata": {
        "id": "view-in-github",
        "colab_type": "text"
      },
      "source": [
        "<a href=\"https://colab.research.google.com/github/Tarunsh0869/Tarunsh0869/blob/main/chapter_appendix-tools-for-deep-learning/jupyter.ipynb\" target=\"_parent\"><img src=\"https://colab.research.google.com/assets/colab-badge.svg\" alt=\"Open In Colab\"/></a>"
      ]
    },
    {
      "cell_type": "markdown",
      "source": [],
      "metadata": {
        "id": "j6AP2zdHu_8s"
      },
      "id": "j6AP2zdHu_8s"
    },
    {
      "cell_type": "code",
      "source": [
        "# Create a new list that includes all elements from my_list except \"orange\"\n",
        "my_list = [item for item in my_list if item != \"orange\"]\n",
        "print(my_list)"
      ],
      "metadata": {
        "colab": {
          "base_uri": "https://localhost:8080/"
        },
        "id": "srvSuY2g2SF1",
        "outputId": "840996e1-f348-43a8-c3ba-2e9b4a42e544"
      },
      "id": "srvSuY2g2SF1",
      "execution_count": 45,
      "outputs": [
        {
          "output_type": "stream",
          "name": "stdout",
          "text": [
            "['cherry', 'banana', 'apple']\n"
          ]
        }
      ]
    },
    {
      "cell_type": "code",
      "source": [
        "my_list.append(\"peach\")"
      ],
      "metadata": {
        "id": "3IHu_sjC2SJ1"
      },
      "id": "3IHu_sjC2SJ1",
      "execution_count": 47,
      "outputs": []
    },
    {
      "cell_type": "code",
      "source": [
        "print(my_list)"
      ],
      "metadata": {
        "colab": {
          "base_uri": "https://localhost:8080/"
        },
        "id": "ZdLYFrZY2SMc",
        "outputId": "b513e731-b07a-435f-e137-d6231177ce62"
      },
      "id": "ZdLYFrZY2SMc",
      "execution_count": 48,
      "outputs": [
        {
          "output_type": "stream",
          "name": "stdout",
          "text": [
            "['cherry', 'banana', 'apple', 'peach']\n"
          ]
        }
      ]
    },
    {
      "cell_type": "code",
      "source": [
        "my_list.reverse( )"
      ],
      "metadata": {
        "id": "FUyX6zEb2SPS"
      },
      "id": "FUyX6zEb2SPS",
      "execution_count": 62,
      "outputs": []
    },
    {
      "cell_type": "code",
      "source": [
        "print(my_list)"
      ],
      "metadata": {
        "colab": {
          "base_uri": "https://localhost:8080/"
        },
        "id": "f1peTe1I2SUv",
        "outputId": "f02ce464-ddab-4751-ab51-fbe2d04c111a"
      },
      "id": "f1peTe1I2SUv",
      "execution_count": 63,
      "outputs": [
        {
          "output_type": "stream",
          "name": "stdout",
          "text": [
            "['cherry', 'banana', 'apple', 'peach']\n"
          ]
        }
      ]
    },
    {
      "cell_type": "code",
      "source": [],
      "metadata": {
        "id": "QwbE_n352SaA"
      },
      "id": "QwbE_n352SaA",
      "execution_count": null,
      "outputs": []
    }
  ],
  "metadata": {
    "kernelspec": {
      "display_name": "Python 3",
      "name": "python3"
    },
    "language_info": {
      "name": "python"
    },
    "required_libs": [],
    "colab": {
      "provenance": [],
      "include_colab_link": true
    }
  },
  "nbformat": 4,
  "nbformat_minor": 5
}